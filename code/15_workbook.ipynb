{
 "cells": [
  {
   "cell_type": "markdown",
   "id": "4063221b",
   "metadata": {},
   "source": [
    "# GeoPandas and Mapping in Python"
   ]
  },
  {
   "cell_type": "markdown",
   "id": "cfa9624e",
   "metadata": {},
   "source": [
    "A large portion of this tutorial was derived from the GeoPandas [user guide](https://geopandas.org/en/stable/docs/user_guide/mapping.html) and [introduction](https://geopandas.org/en/stable/getting_started/introduction.html)."
   ]
  },
  {
   "cell_type": "markdown",
   "id": "77cc2af8",
   "metadata": {},
   "source": [
    "## Getting Started - Boroughs of NYC"
   ]
  },
  {
   "cell_type": "markdown",
   "id": "caac1b70",
   "metadata": {},
   "source": [
    "One commmon way to visualize and interact with data is to use spatial information in the data to generate maps. In order to do that, we need to build out shapes (called geometries) in our data set.\n",
    "\n",
    "GeoPandas is an extension of pandas that allows us to include functionality for working with these geometries and perform analyses using that data."
   ]
  },
  {
   "cell_type": "markdown",
   "id": "e2b10f2a",
   "metadata": {},
   "source": [
    "To start we need some data. In this tutorial, we'll use a few built in data sets but we will also load data from external shape files."
   ]
  },
  {
   "cell_type": "code",
   "execution_count": null,
   "id": "84ad46cf",
   "metadata": {},
   "outputs": [],
   "source": [
    "import geopandas\n",
    "\n",
    "%config InlineBackend.figure_format ='retina'"
   ]
  },
  {
   "cell_type": "markdown",
   "id": "d6daae8c",
   "metadata": {},
   "source": [
    "### Reading Files"
   ]
  },
  {
   "cell_type": "code",
   "execution_count": null,
   "id": "9f82f7ca",
   "metadata": {},
   "outputs": [],
   "source": [
    "path_to_data = geopandas.datasets.get_path(\"nybb\")\n",
    "gdf = geopandas.read_file(path_to_data)\n",
    "gdf"
   ]
  },
  {
   "cell_type": "markdown",
   "id": "12708792",
   "metadata": {},
   "source": [
    "### Writing Files"
   ]
  },
  {
   "cell_type": "code",
   "execution_count": null,
   "id": "28151a86",
   "metadata": {},
   "outputs": [],
   "source": [
    "gdf.to_file(\"my_file.geojson\", driver=\"GeoJSON\")"
   ]
  },
  {
   "cell_type": "markdown",
   "id": "d3633fb9",
   "metadata": {},
   "source": [
    "### Getting Features"
   ]
  },
  {
   "cell_type": "code",
   "execution_count": null,
   "id": "5bcd3ef5",
   "metadata": {},
   "outputs": [],
   "source": [
    "gdf = gdf.set_index(\"BoroName\") #resetting the name of the boroughs as the index"
   ]
  },
  {
   "cell_type": "markdown",
   "id": "97dd97ce",
   "metadata": {},
   "source": [
    "Getting the area of the polygon"
   ]
  },
  {
   "cell_type": "code",
   "execution_count": null,
   "id": "6bfe2985",
   "metadata": {},
   "outputs": [],
   "source": [
    "gdf[\"area\"] = gdf.area\n",
    "gdf[\"area\"]"
   ]
  },
  {
   "cell_type": "markdown",
   "id": "bd9bb71d",
   "metadata": {},
   "source": [
    "Getting the boundary of the polygon"
   ]
  },
  {
   "cell_type": "code",
   "execution_count": null,
   "id": "150396ed",
   "metadata": {},
   "outputs": [],
   "source": [
    "gdf['boundary'] = gdf.boundary\n",
    "gdf['boundary']"
   ]
  },
  {
   "cell_type": "markdown",
   "id": "3d3ba68f",
   "metadata": {},
   "source": [
    "Getting the centroid (average x and y values) of the polygon"
   ]
  },
  {
   "cell_type": "code",
   "execution_count": null,
   "id": "31a824ae",
   "metadata": {},
   "outputs": [],
   "source": [
    "gdf['centroid'] = gdf.centroid\n",
    "gdf['centroid']"
   ]
  },
  {
   "cell_type": "markdown",
   "id": "f14b9069",
   "metadata": {},
   "source": [
    "### Measuring Distance"
   ]
  },
  {
   "cell_type": "markdown",
   "id": "b530515c",
   "metadata": {},
   "source": [
    "Distance from the first point in the data to the centroid"
   ]
  },
  {
   "cell_type": "code",
   "execution_count": null,
   "id": "70c31f66",
   "metadata": {},
   "outputs": [],
   "source": [
    "first_point = gdf['centroid'].iloc[0]\n",
    "gdf['distance'] = gdf['centroid'].distance(first_point)\n",
    "gdf['distance']"
   ]
  },
  {
   "cell_type": "markdown",
   "id": "b949b3f4",
   "metadata": {},
   "source": [
    "Getting the average distance from our values above."
   ]
  },
  {
   "cell_type": "code",
   "execution_count": null,
   "id": "0d8125af",
   "metadata": {},
   "outputs": [],
   "source": [
    "gdf['distance'].mean()"
   ]
  },
  {
   "cell_type": "markdown",
   "id": "69dfcfd4",
   "metadata": {},
   "source": [
    "## Making Maps"
   ]
  },
  {
   "cell_type": "markdown",
   "id": "5547d8e1",
   "metadata": {},
   "source": [
    "GeoPandas can generate maps based on the geometries in the dataset."
   ]
  },
  {
   "cell_type": "code",
   "execution_count": null,
   "id": "84cb00e7",
   "metadata": {},
   "outputs": [],
   "source": [
    "gdf.plot(\"area\", legend=True)"
   ]
  },
  {
   "cell_type": "markdown",
   "id": "0dc16868",
   "metadata": {},
   "source": [
    "You can even make interactive maps that allow you to layer data over an existing map using explore instead of plot"
   ]
  },
  {
   "cell_type": "code",
   "execution_count": null,
   "id": "e6d17da0",
   "metadata": {},
   "outputs": [],
   "source": [
    "gdf.explore(\"area\", legend=False)"
   ]
  },
  {
   "cell_type": "markdown",
   "id": "752c9163",
   "metadata": {},
   "source": [
    "We can change the geometry we are plotting to centroids if we only want to plot the center of our shapes"
   ]
  },
  {
   "cell_type": "code",
   "execution_count": null,
   "id": "b22e0351",
   "metadata": {},
   "outputs": [],
   "source": [
    "gdf = gdf.set_geometry(\"centroid\")\n",
    "gdf.plot(\"area\", legend=True)"
   ]
  },
  {
   "cell_type": "markdown",
   "id": "1fbe7d59",
   "metadata": {},
   "source": [
    "This allows us to plot different layers with both the polygons and the centroids on the same map"
   ]
  },
  {
   "cell_type": "code",
   "execution_count": null,
   "id": "f2e437f0",
   "metadata": {},
   "outputs": [],
   "source": [
    "ax = gdf[\"geometry\"].plot()\n",
    "gdf[\"centroid\"].plot(ax=ax, color=\"black\")"
   ]
  },
  {
   "cell_type": "code",
   "execution_count": null,
   "id": "f9797e2f",
   "metadata": {},
   "outputs": [],
   "source": [
    "gdf = gdf.set_geometry(\"geometry\")"
   ]
  },
  {
   "cell_type": "markdown",
   "id": "59892ed1",
   "metadata": {},
   "source": [
    "### Modifying Polygons"
   ]
  },
  {
   "cell_type": "markdown",
   "id": "3920f708",
   "metadata": {},
   "source": [
    "We can round out our polygons by creating a \"convex hull\" around our polygon"
   ]
  },
  {
   "cell_type": "code",
   "execution_count": null,
   "id": "ec5b872f",
   "metadata": {},
   "outputs": [],
   "source": [
    "gdf[\"convex_hull\"] = gdf.convex_hull"
   ]
  },
  {
   "cell_type": "code",
   "execution_count": null,
   "id": "08039249",
   "metadata": {},
   "outputs": [],
   "source": [
    "ax = gdf[\"convex_hull\"].plot(alpha=.5)  # saving the first plot as an axis and setting alpha (transparency) to 0.5\n",
    "gdf[\"boundary\"].plot(ax=ax, color=\"white\", linewidth=.5);  # passing the first plot and setting linewitdth to 0.5"
   ]
  },
  {
   "cell_type": "markdown",
   "id": "ef0ecb22",
   "metadata": {},
   "source": [
    "### Buffering"
   ]
  },
  {
   "cell_type": "markdown",
   "id": "873a5358",
   "metadata": {},
   "source": [
    "We might want to add buffers to our polygons."
   ]
  },
  {
   "cell_type": "code",
   "execution_count": null,
   "id": "324da1af",
   "metadata": {},
   "outputs": [],
   "source": [
    "# buffering the active geometry by 10 000 feet (geometry is already in feet)\n",
    "gdf[\"buffered\"] = gdf.buffer(10000)\n",
    "\n",
    "# buffering the centroid geometry by 10 000 feet (geometry is already in feet)\n",
    "gdf[\"buffered_centroid\"] = gdf[\"centroid\"].buffer(10000)"
   ]
  },
  {
   "cell_type": "code",
   "execution_count": null,
   "id": "d4db3ec4",
   "metadata": {},
   "outputs": [],
   "source": [
    "ax = gdf[\"buffered\"].plot(alpha=.5)  # saving the first plot as an axis and setting alpha (transparency) to 0.5\n",
    "gdf[\"buffered_centroid\"].plot(ax=ax, color=\"red\", alpha=.5)  # passing the first plot as an axis to the second\n",
    "gdf[\"boundary\"].plot(ax=ax, color=\"white\", linewidth=.5)  # passing the first plot and setting linewitdth to 0.5"
   ]
  },
  {
   "cell_type": "markdown",
   "id": "9ba6ea45",
   "metadata": {},
   "source": [
    "## Geometry Relations"
   ]
  },
  {
   "cell_type": "markdown",
   "id": "0dcee7e3",
   "metadata": {},
   "source": [
    "We can also use our geometries to check for relations between them. For example, we might want to check on intersections or nearby entities."
   ]
  },
  {
   "cell_type": "markdown",
   "id": "b43e4b70",
   "metadata": {},
   "source": [
    "First we need to isolate the geometry we want to look at - in this case Brooklyn"
   ]
  },
  {
   "cell_type": "code",
   "execution_count": null,
   "id": "e1474488",
   "metadata": {},
   "outputs": [],
   "source": [
    "brooklyn = gdf.loc[\"Brooklyn\", \"geometry\"]\n",
    "brooklyn"
   ]
  },
  {
   "cell_type": "code",
   "execution_count": null,
   "id": "13b6b9ae",
   "metadata": {},
   "outputs": [],
   "source": [
    "type(brooklyn)"
   ]
  },
  {
   "cell_type": "markdown",
   "id": "12068622",
   "metadata": {},
   "source": [
    "Now we can check if any of the other geometries intersect the buffer region around Brooklyn"
   ]
  },
  {
   "cell_type": "code",
   "execution_count": null,
   "id": "05520894",
   "metadata": {},
   "outputs": [],
   "source": [
    "gdf[\"buffered\"].intersects(brooklyn)"
   ]
  },
  {
   "cell_type": "markdown",
   "id": "f8d6a20c",
   "metadata": {},
   "source": [
    "This means that only the Bronx fails to intersect with the buffer zone (10,000 ft) around Brooklyn."
   ]
  },
  {
   "cell_type": "markdown",
   "id": "8b7e16e7",
   "metadata": {},
   "source": [
    "We can also look at the centroids and see if the buffered centroids are within their polygon."
   ]
  },
  {
   "cell_type": "code",
   "execution_count": null,
   "id": "3df3d862",
   "metadata": {},
   "outputs": [],
   "source": [
    "gdf[\"within\"] = gdf[\"buffered_centroid\"].within(gdf)\n",
    "gdf[\"within\"]"
   ]
  },
  {
   "cell_type": "markdown",
   "id": "bb4ef65a",
   "metadata": {},
   "source": [
    "Plotting to confirm our results (this could be practical when looking at a state like Hawaii to see if the centroid is with in some distance of the shore)"
   ]
  },
  {
   "cell_type": "code",
   "execution_count": null,
   "id": "5ab4b2b6",
   "metadata": {},
   "outputs": [],
   "source": [
    "gdf = gdf.set_geometry(\"buffered_centroid\")\n",
    "ax = gdf.plot(\"within\", legend=True, categorical=True, legend_kwds={'loc': \"upper left\"})  # using categorical plot and setting the position of the legend\n",
    "gdf[\"boundary\"].plot(ax=ax, color=\"black\", linewidth=.5);  # passing the first plot and setting linewitdth to 0.5"
   ]
  },
  {
   "cell_type": "markdown",
   "id": "77fa5bf2",
   "metadata": {},
   "source": [
    "## More on Mapping"
   ]
  },
  {
   "cell_type": "markdown",
   "id": "12455ee1",
   "metadata": {},
   "source": [
    "We might want to make more types of maps. Here are some examples of ways we can manipulate maps."
   ]
  },
  {
   "cell_type": "markdown",
   "id": "4213f8c8",
   "metadata": {},
   "source": [
    "### Load Global Data"
   ]
  },
  {
   "cell_type": "code",
   "execution_count": null,
   "id": "9fe898bf",
   "metadata": {},
   "outputs": [],
   "source": [
    "world = geopandas.read_file(geopandas.datasets.get_path('naturalearth_lowres'))"
   ]
  },
  {
   "cell_type": "code",
   "execution_count": null,
   "id": "ad70f6c9",
   "metadata": {},
   "outputs": [],
   "source": [
    "cities = geopandas.read_file(geopandas.datasets.get_path('naturalearth_cities'))"
   ]
  },
  {
   "cell_type": "code",
   "execution_count": null,
   "id": "8406128b",
   "metadata": {},
   "outputs": [],
   "source": [
    "world.head()"
   ]
  },
  {
   "cell_type": "code",
   "execution_count": null,
   "id": "eb671886",
   "metadata": {},
   "outputs": [],
   "source": [
    "world.plot()"
   ]
  },
  {
   "cell_type": "markdown",
   "id": "88813de4",
   "metadata": {},
   "source": [
    "### Choropleth Maps"
   ]
  },
  {
   "cell_type": "markdown",
   "id": "7c7970f6",
   "metadata": {},
   "source": [
    "These are maps based on a variable. First we'll filter out some of the data that we don't care about (Antarctica, uninhabitated land)."
   ]
  },
  {
   "cell_type": "code",
   "execution_count": null,
   "id": "0a415383",
   "metadata": {},
   "outputs": [],
   "source": [
    "world = world[(world.pop_est>0) & (world.name!=\"Antarctica\")]"
   ]
  },
  {
   "cell_type": "markdown",
   "id": "8654850c",
   "metadata": {},
   "source": [
    "Next we divide GDP (groos domestic product) by the population to generate a GDP per capita"
   ]
  },
  {
   "cell_type": "code",
   "execution_count": null,
   "id": "0965c9c3",
   "metadata": {},
   "outputs": [],
   "source": [
    "world['gdp_per_cap'] = world.gdp_md_est / world.pop_est"
   ]
  },
  {
   "cell_type": "code",
   "execution_count": null,
   "id": "51022680",
   "metadata": {},
   "outputs": [],
   "source": [
    "world.plot(column='gdp_per_cap',figsize=(12,6))"
   ]
  },
  {
   "cell_type": "code",
   "execution_count": null,
   "id": "54e84526",
   "metadata": {},
   "outputs": [],
   "source": [
    "world.sort_values(by='gdp_per_cap',ascending=False)"
   ]
  },
  {
   "cell_type": "markdown",
   "id": "9dd5fe1f",
   "metadata": {},
   "source": [
    "### Adding Legends"
   ]
  },
  {
   "cell_type": "markdown",
   "id": "d959d643",
   "metadata": {},
   "source": [
    "We can add legends to our map using matplotlib."
   ]
  },
  {
   "cell_type": "code",
   "execution_count": null,
   "id": "aa2e4d06",
   "metadata": {},
   "outputs": [],
   "source": [
    "import matplotlib.pyplot as plt"
   ]
  },
  {
   "cell_type": "code",
   "execution_count": null,
   "id": "06418cd7",
   "metadata": {},
   "outputs": [],
   "source": [
    "fig, ax = plt.subplots(1, 1)\n",
    "\n",
    "world.plot(column='pop_est', ax=ax, legend=True)"
   ]
  },
  {
   "cell_type": "code",
   "execution_count": null,
   "id": "863c2b88",
   "metadata": {},
   "outputs": [],
   "source": [
    "from mpl_toolkits.axes_grid1 import make_axes_locatable\n",
    "\n",
    "fig, ax = plt.subplots(1, 1)\n",
    "\n",
    "divider = make_axes_locatable(ax)\n",
    "\n",
    "cax = divider.append_axes(\"right\", size=\"5%\", pad=0.1)\n",
    "\n",
    "world.plot(column='pop_est', ax=ax, legend=True, cax=cax)\n"
   ]
  },
  {
   "cell_type": "code",
   "execution_count": null,
   "id": "3d502178",
   "metadata": {},
   "outputs": [],
   "source": [
    "import matplotlib.pyplot as plt\n",
    "\n",
    "fig, ax = plt.subplots(1, 1)\n",
    "\n",
    "world.plot(column='pop_est',\n",
    "            ax=ax,\n",
    "            legend=True,\n",
    "            legend_kwds={'label': \"Population by Country\",\n",
    "                         'orientation': \"horizontal\"});"
   ]
  },
  {
   "cell_type": "markdown",
   "id": "de492710",
   "metadata": {},
   "source": [
    "### Adding Colors"
   ]
  },
  {
   "cell_type": "markdown",
   "id": "6a02f17d",
   "metadata": {},
   "source": [
    "We can use color maps (cmap) to change the color scheme of our map. For more colormap options, check out the [documentation](https://matplotlib.org/2.0.2/users/colormaps.html)."
   ]
  },
  {
   "cell_type": "code",
   "execution_count": null,
   "id": "efad6905",
   "metadata": {},
   "outputs": [],
   "source": [
    "world.plot(column='gdp_per_cap', cmap='nipy_spectral',figsize=(12,6))"
   ]
  },
  {
   "cell_type": "markdown",
   "id": "f7c03dad",
   "metadata": {},
   "source": [
    "We can also just plot the boundaries of our polygons"
   ]
  },
  {
   "cell_type": "code",
   "execution_count": null,
   "id": "404a257e",
   "metadata": {},
   "outputs": [],
   "source": [
    "world.boundary.plot()"
   ]
  },
  {
   "cell_type": "markdown",
   "id": "a75d3ca7",
   "metadata": {},
   "source": [
    "We can use different schemes (here we use quantiles) to classify our map into colors. "
   ]
  },
  {
   "cell_type": "code",
   "execution_count": null,
   "id": "073d09fc",
   "metadata": {},
   "outputs": [],
   "source": [
    "world.plot(column='gdp_per_cap', cmap='nipy_spectral', scheme='quantiles')"
   ]
  },
  {
   "cell_type": "markdown",
   "id": "00ec10f8",
   "metadata": {},
   "source": [
    "### Missing Data"
   ]
  },
  {
   "cell_type": "markdown",
   "id": "27bd1baa",
   "metadata": {},
   "source": [
    "GeoPandas will ignore missing data by default but you can force it to fill in that missing data if you want using the missing keywords argument"
   ]
  },
  {
   "cell_type": "code",
   "execution_count": null,
   "id": "a87cfd60",
   "metadata": {},
   "outputs": [],
   "source": [
    "import numpy as np\n",
    "\n",
    "world.loc[np.random.choice(world.index, 40), 'pop_est'] = np.nan\n",
    "\n",
    "world.plot(column='pop_est');"
   ]
  },
  {
   "cell_type": "code",
   "execution_count": null,
   "id": "4c2c0183",
   "metadata": {},
   "outputs": [],
   "source": [
    "world.plot(column='pop_est', missing_kwds={'color': 'lightgrey'});\n",
    "\n",
    "world.plot(\n",
    "     column=\"pop_est\",\n",
    "     legend=True,\n",
    "     scheme=\"quantiles\",\n",
    "     figsize=(15, 10),\n",
    "     missing_kwds={\n",
    "         \"color\": \"lightgrey\",\n",
    "         \"edgecolor\": \"red\",\n",
    "         \"hatch\": \"///\",\n",
    "         \"label\": \"Missing values\",\n",
    "     },\n",
    " );"
   ]
  },
  {
   "cell_type": "markdown",
   "id": "4253d8a6",
   "metadata": {},
   "source": [
    "### Other Customizations"
   ]
  },
  {
   "cell_type": "markdown",
   "id": "73ce0f0a",
   "metadata": {},
   "source": [
    "We can turn off the axes for a cleaner map"
   ]
  },
  {
   "cell_type": "code",
   "execution_count": null,
   "id": "e0f27083",
   "metadata": {},
   "outputs": [],
   "source": [
    "ax = world.plot()\n",
    "\n",
    "ax.set_axis_off();"
   ]
  },
  {
   "cell_type": "markdown",
   "id": "f0e54c13",
   "metadata": {},
   "source": [
    "## Maps with Layers"
   ]
  },
  {
   "cell_type": "markdown",
   "id": "722557df",
   "metadata": {},
   "source": [
    "We can combine maps of different things to make a layered map. Here we've done it with our world map and global cities"
   ]
  },
  {
   "cell_type": "code",
   "execution_count": null,
   "id": "bbd0f76e",
   "metadata": {},
   "outputs": [],
   "source": [
    "cities.plot(marker='*', color='green', markersize=7)\n",
    "\n",
    "cities = cities.to_crs(world.crs)"
   ]
  },
  {
   "cell_type": "code",
   "execution_count": null,
   "id": "a841b9b9",
   "metadata": {},
   "outputs": [],
   "source": [
    "cities"
   ]
  },
  {
   "cell_type": "code",
   "execution_count": null,
   "id": "39853175",
   "metadata": {},
   "outputs": [],
   "source": [
    "base = world.plot(color='white', edgecolor='black')\n",
    "\n",
    "cities.plot(ax=base, marker='*', color='green', markersize=10)"
   ]
  },
  {
   "cell_type": "markdown",
   "id": "9e6c59da",
   "metadata": {},
   "source": [
    "## Using Pandas and GeoPandas"
   ]
  },
  {
   "cell_type": "code",
   "execution_count": null,
   "id": "d0ddb9c0",
   "metadata": {},
   "outputs": [],
   "source": [
    "import pandas as pd"
   ]
  },
  {
   "cell_type": "markdown",
   "id": "3ea46301",
   "metadata": {},
   "source": [
    "### Read in Shape File"
   ]
  },
  {
   "cell_type": "markdown",
   "id": "bba91edf",
   "metadata": {},
   "source": [
    "When reading in a shape file, you actually need the reference files in the same directory as the shape file. This means you need a .shp as well as .shx, .dpf, and .prj files with the same names."
   ]
  },
  {
   "cell_type": "code",
   "execution_count": null,
   "id": "1668d936",
   "metadata": {},
   "outputs": [],
   "source": [
    "usa = geopandas.read_file('../data/s_22mr22.shp')\n",
    "\n",
    "usa.head()"
   ]
  },
  {
   "cell_type": "code",
   "execution_count": null,
   "id": "e8cbd0c5",
   "metadata": {},
   "outputs": [],
   "source": [
    "usa['geometry'][42]"
   ]
  },
  {
   "cell_type": "code",
   "execution_count": null,
   "id": "09abe9b4",
   "metadata": {},
   "outputs": [],
   "source": [
    "usa[usa['STATE'] == 'TX'].plot();"
   ]
  },
  {
   "cell_type": "markdown",
   "id": "a28b5e7c",
   "metadata": {},
   "source": [
    "### Load Pandas"
   ]
  },
  {
   "cell_type": "markdown",
   "id": "00af673e",
   "metadata": {},
   "source": [
    "Here we pull in our state facts data set to combine it with the state geometry data."
   ]
  },
  {
   "cell_type": "code",
   "execution_count": null,
   "id": "582725ff",
   "metadata": {},
   "outputs": [],
   "source": [
    "facts = pd.read_csv('../data/state_facts.tsv', delimiter='\\t')"
   ]
  },
  {
   "cell_type": "code",
   "execution_count": null,
   "id": "2d1bbef3",
   "metadata": {},
   "outputs": [],
   "source": [
    "dates = pd.read_csv('../data/state_dates.tsv', delimiter='\\t')"
   ]
  },
  {
   "cell_type": "code",
   "execution_count": null,
   "id": "9df44ee1",
   "metadata": {},
   "outputs": [],
   "source": [
    "facts.head()"
   ]
  },
  {
   "cell_type": "code",
   "execution_count": null,
   "id": "2770897b",
   "metadata": {},
   "outputs": [],
   "source": [
    "facts['USPS_code']=facts['USPS_code'].apply(lambda x: x.strip()) #trim off whitespace to make the abbreviations match\n",
    "dates['Abbreviation']=dates['Abbreviation'].apply(lambda x: x.strip()) #trim off whitespace to make the abbreviations match"
   ]
  },
  {
   "cell_type": "markdown",
   "id": "ccb26dac",
   "metadata": {},
   "source": [
    "### Merge Pandas and GeoPandas"
   ]
  },
  {
   "cell_type": "code",
   "execution_count": null,
   "id": "95f5bb06",
   "metadata": {},
   "outputs": [],
   "source": [
    "dates.columns"
   ]
  },
  {
   "cell_type": "code",
   "execution_count": null,
   "id": "08956e1c",
   "metadata": {},
   "outputs": [],
   "source": [
    "merged = pd.merge(facts,dates, left_on='USPS_code', right_on='Abbreviation', how='left')"
   ]
  },
  {
   "cell_type": "code",
   "execution_count": null,
   "id": "13a73051",
   "metadata": {},
   "outputs": [],
   "source": [
    "merged = pd.merge(merged,usa, left_on='USPS_code', right_on='STATE', how='left')\n",
    "merged['State_bird'] = merged['State_bird'].str.strip()"
   ]
  },
  {
   "cell_type": "code",
   "execution_count": null,
   "id": "eff8dad9",
   "metadata": {},
   "outputs": [],
   "source": [
    "merged.head()"
   ]
  },
  {
   "cell_type": "code",
   "execution_count": null,
   "id": "e713023b",
   "metadata": {},
   "outputs": [],
   "source": [
    "gdf = geopandas.GeoDataFrame(merged)"
   ]
  },
  {
   "cell_type": "markdown",
   "id": "deae0522",
   "metadata": {},
   "source": [
    "Now we can filter using conditions like we are familar with when working with pandas."
   ]
  },
  {
   "cell_type": "code",
   "execution_count": null,
   "id": "22761eca",
   "metadata": {},
   "outputs": [],
   "source": [
    "gdf[gdf['Pop_2020']>5000000].plot()"
   ]
  },
  {
   "cell_type": "code",
   "execution_count": null,
   "id": "b7cc88f0",
   "metadata": {},
   "outputs": [],
   "source": [
    "gdf[gdf['State_bird']==(\"Northern cardinal\")].plot(column='Pop_2020',cmap='nipy_spectral')"
   ]
  },
  {
   "cell_type": "code",
   "execution_count": null,
   "id": "6215097e",
   "metadata": {},
   "outputs": [],
   "source": [
    "ax = gdf[gdf['State_bird']==(\"Northern cardinal\")].plot(column='Pop_2020',cmap='nipy_spectral', scheme='quantiles', legend=True);\n",
    "\n",
    "ax.set_axis_off();"
   ]
  },
  {
   "cell_type": "code",
   "execution_count": null,
   "id": "86f4d471",
   "metadata": {},
   "outputs": [],
   "source": [
    "ax = gdf[(~gdf['State_flower'].str.contains('a'))&(gdf['Status']=='State')&(gdf['USPS_code']!='AK')].plot(column='Pop_2020',cmap='nipy_spectral', scheme='quantiles', legend=False);\n",
    "\n",
    "ax.set_axis_off();"
   ]
  },
  {
   "cell_type": "code",
   "execution_count": null,
   "id": "7e33b57d",
   "metadata": {},
   "outputs": [],
   "source": [
    "gdf[(~gdf['State_flower'].str.contains('a'))&(gdf['USPS_code']!='AK')&(gdf['Status']=='State')].explore(column='Pop_2020',cmap='nipy_spectral', scheme='quantiles', legend=False)"
   ]
  }
 ],
 "metadata": {
  "jupytext": {
   "formats": "ipynb"
  },
  "kernelspec": {
   "display_name": "Python 3 (ipykernel)",
   "language": "python",
   "name": "python3"
  }
 },
 "nbformat": 4,
 "nbformat_minor": 5
}
